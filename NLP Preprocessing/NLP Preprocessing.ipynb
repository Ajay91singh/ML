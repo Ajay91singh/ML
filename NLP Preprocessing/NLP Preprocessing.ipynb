{
 "cells": [
  {
   "cell_type": "code",
   "execution_count": 130,
   "metadata": {},
   "outputs": [],
   "source": [
    "import nltk"
   ]
  },
  {
   "cell_type": "code",
   "execution_count": 21,
   "metadata": {},
   "outputs": [
    {
     "name": "stdout",
     "output_type": "stream",
     "text": [
      "showing info https://raw.githubusercontent.com/nltk/nltk_data/gh-pages/index.xml\n"
     ]
    },
    {
     "data": {
      "text/plain": [
       "True"
      ]
     },
     "execution_count": 21,
     "metadata": {},
     "output_type": "execute_result"
    }
   ],
   "source": [
    "nltk.download()"
   ]
  },
  {
   "cell_type": "code",
   "execution_count": 131,
   "metadata": {},
   "outputs": [],
   "source": [
    "paragraph = \"\"\"I have three visions for India. In 3000 years of our history, people from all over \n",
    "               the world have come and invaded us, captured our lands, conquered our minds. \n",
    "               From Alexander onwards, the Greeks, the Turks, the Moguls, the Portuguese, the British,\n",
    "               the French, the Dutch, all of them came and looted us, took over what was ours. \n",
    "               Yet we have not done this to any other nation. We have not conquered anyone. \n",
    "               We have not grabbed their land, their culture, \n",
    "               their history and tried to enforce our way of life on them. \n",
    "               Why? Because we respect the freedom of others.That is why my \n",
    "               first vision is that of freedom. I believe that India got its first vision of \n",
    "               this in 1857, when we started the War of Independence. It is this freedom that\n",
    "               we must protect and nurture and build on. If we are not free, no one will respect us.\n",
    "               My second vision for India’s development. For fifty years we have been a developing nation.\n",
    "               It is time we see ourselves as a developed nation. We are among the top 5 nations of the world\n",
    "               in terms of GDP. We have a 10 percent growth rate in most areas. Our poverty levels are falling.\n",
    "               Our achievements are being globally recognised today. Yet we lack the self-confidence to\n",
    "               see ourselves as a developed nation, self-reliant and self-assured. Isn’t this incorrect?\n",
    "               I have a third vision. India must stand up to the world. Because I believe that unless India \n",
    "               stands up to the world, no one will respect us. Only strength respects strength. We must be \n",
    "               strong not only as a military power but also as an economic power. Both must go hand-in-hand. \n",
    "               My good fortune was to have worked with three great minds. Dr. Vikram Sarabhai of the Dept. of \n",
    "               space, Professor Satish Dhawan, who succeeded him and Dr. Brahm Prakash, father of nuclear material.\n",
    "               I was lucky to have worked with all three of them closely and consider this the great opportunity of my life. \n",
    "               I see four milestones in my career\"\"\"\n"
   ]
  },
  {
   "cell_type": "markdown",
   "metadata": {},
   "source": [
    "## Tokenization"
   ]
  },
  {
   "cell_type": "code",
   "execution_count": 132,
   "metadata": {},
   "outputs": [],
   "source": [
    "sentence=nltk.sent_tokenize(paragraph)\n"
   ]
  },
  {
   "cell_type": "code",
   "execution_count": 133,
   "metadata": {},
   "outputs": [
    {
     "data": {
      "text/plain": [
       "31"
      ]
     },
     "execution_count": 133,
     "metadata": {},
     "output_type": "execute_result"
    }
   ],
   "source": [
    "len(sentence)"
   ]
  },
  {
   "cell_type": "code",
   "execution_count": 63,
   "metadata": {},
   "outputs": [],
   "source": [
    "words=nltk.word_tokenize(paragraph)"
   ]
  },
  {
   "cell_type": "code",
   "execution_count": 64,
   "metadata": {},
   "outputs": [
    {
     "data": {
      "text/plain": [
       "399"
      ]
     },
     "execution_count": 64,
     "metadata": {},
     "output_type": "execute_result"
    }
   ],
   "source": [
    "len(words)"
   ]
  },
  {
   "cell_type": "markdown",
   "metadata": {},
   "source": [
    "## Stemmimg"
   ]
  },
  {
   "cell_type": "code",
   "execution_count": 65,
   "metadata": {},
   "outputs": [],
   "source": [
    "from nltk.stem import PorterStemmer\n",
    "from nltk.corpus import stopwords"
   ]
  },
  {
   "cell_type": "code",
   "execution_count": 66,
   "metadata": {},
   "outputs": [],
   "source": [
    "stemmer=PorterStemmer()"
   ]
  },
  {
   "cell_type": "code",
   "execution_count": 67,
   "metadata": {},
   "outputs": [],
   "source": [
    "sentences=sentence\n",
    "for i in range(len(sentences)):\n",
    "    word=nltk.word_tokenize(sentences[i])\n",
    "    words=[stemmer.stem(w) for w in word if w not in stopwords.words('english')]\n",
    "    sentences[i]=''.join(words)"
   ]
  },
  {
   "cell_type": "code",
   "execution_count": 72,
   "metadata": {},
   "outputs": [
    {
     "data": {
      "text/plain": [
       "['Ithreevisionindia.',\n",
       " 'In3000yearhistori,peoplworldcomeinvadus,capturland,conquermind.',\n",
       " 'fromalexandonward,greek,turk,mogul,portugues,british,french,dutch,camelootus,took.',\n",
       " 'yetdonenation.',\n",
       " 'Weconqueranyon.',\n",
       " 'Wegrabland,cultur,historitrienforcwaylife.',\n",
       " 'whi?',\n",
       " 'becausrespectfreedomothers.thatfirstvisionfreedom.',\n",
       " 'Ibelievindiagotfirstvision1857,startwarindepend.',\n",
       " 'Itfreedommustprotectnurturbuild.',\n",
       " 'Iffree,onerespectus.',\n",
       " 'Mysecondvisionindia’develop.',\n",
       " 'forfiftiyeardevelopnation.',\n",
       " 'Ittimeseedevelopnation.',\n",
       " 'Weamongtop5nationworldtermgdp.',\n",
       " 'We10percentgrowthratearea.',\n",
       " 'ourpovertilevelfall.',\n",
       " 'ourachievglobalrecognistoday.',\n",
       " 'yetlackself-confidseedevelopnation,self-reliself-assur.',\n",
       " 'isn’incorrect?',\n",
       " 'Ithirdvision.',\n",
       " 'indiamuststandworld.',\n",
       " 'becausIbelievunlessindiastandworld,onerespectus.',\n",
       " 'onlistrengthrespectstrength.',\n",
       " 'Wemuststrongmilitaripoweralsoeconompower.',\n",
       " 'bothmustgohand-in-hand.',\n",
       " 'Mygoodfortunworkthreegreatmind.',\n",
       " 'dr.vikramsarabhaidept.',\n",
       " 'space,professorsatishdhawan,succeeddr.brahmprakash,fathernuclearmateri.',\n",
       " 'Iluckiworkthreecloseconsidgreatopportunlife.',\n",
       " 'Iseefourmilestoncareer']"
      ]
     },
     "execution_count": 72,
     "metadata": {},
     "output_type": "execute_result"
    }
   ],
   "source": [
    "sentences"
   ]
  },
  {
   "cell_type": "markdown",
   "metadata": {},
   "source": [
    "## Lemmatization"
   ]
  },
  {
   "cell_type": "code",
   "execution_count": 73,
   "metadata": {},
   "outputs": [],
   "source": [
    "from nltk.stem import WordNetLemmatizer"
   ]
  },
  {
   "cell_type": "code",
   "execution_count": 74,
   "metadata": {},
   "outputs": [],
   "source": [
    "lemma=WordNetLemmatizer()"
   ]
  },
  {
   "cell_type": "code",
   "execution_count": 75,
   "metadata": {},
   "outputs": [],
   "source": [
    "sentences_lemma=sentence\n",
    "for i in range(len(sentences_lemma)):\n",
    "    word=nltk.word_tokenize(sentences_lemma[i])\n",
    "    words=[lemma.lemmatize(w) for w in word if w not in stopwords.words('english')]\n",
    "    sentences_lemma[i]=''.join(words)"
   ]
  },
  {
   "cell_type": "code",
   "execution_count": 76,
   "metadata": {},
   "outputs": [
    {
     "data": {
      "text/plain": [
       "['IthreevisionIndia.',\n",
       " 'In3000yearhistory,peopleworldcomeinvadedu,capturedland,conqueredmind.',\n",
       " 'FromAlexanderonwards,Greeks,Turks,Moguls,Portuguese,British,French,Dutch,camelootedu,took.',\n",
       " 'Yetdonenation.',\n",
       " 'Weconqueredanyone.',\n",
       " 'Wegrabbedland,culture,historytriedenforcewaylife.',\n",
       " 'Why?',\n",
       " 'Becauserespectfreedomothers.Thatfirstvisionfreedom.',\n",
       " 'IbelieveIndiagotfirstvision1857,startedWarIndependence.',\n",
       " 'Itfreedommustprotectnurturebuild.',\n",
       " 'Iffree,onerespectu.',\n",
       " 'MysecondvisionIndia’development.',\n",
       " 'Forfiftyyeardevelopingnation.',\n",
       " 'Ittimeseedevelopednation.',\n",
       " 'Weamongtop5nationworldtermGDP.',\n",
       " 'We10percentgrowthratearea.',\n",
       " 'Ourpovertylevelfalling.',\n",
       " 'Ourachievementgloballyrecognisedtoday.',\n",
       " 'Yetlackself-confidenceseedevelopednation,self-reliantself-assured.',\n",
       " 'Isn’incorrect?',\n",
       " 'Ithirdvision.',\n",
       " 'Indiamuststandworld.',\n",
       " 'BecauseIbelieveunlessIndiastandworld,onerespectu.',\n",
       " 'Onlystrengthrespectstrength.',\n",
       " 'Wemuststrongmilitarypoweralsoeconomicpower.',\n",
       " 'Bothmustgohand-in-hand.',\n",
       " 'Mygoodfortuneworkedthreegreatmind.',\n",
       " 'Dr.VikramSarabhaiDept.',\n",
       " 'space,ProfessorSatishDhawan,succeededDr.BrahmPrakash,fathernuclearmaterial.',\n",
       " 'Iluckyworkedthreecloselyconsidergreatopportunitylife.',\n",
       " 'Iseefourmilestonecareer']"
      ]
     },
     "execution_count": 76,
     "metadata": {},
     "output_type": "execute_result"
    }
   ],
   "source": [
    "sentences_lemma"
   ]
  },
  {
   "cell_type": "markdown",
   "metadata": {},
   "source": [
    "## Bag Of Words"
   ]
  },
  {
   "cell_type": "code",
   "execution_count": 77,
   "metadata": {},
   "outputs": [],
   "source": [
    "import re"
   ]
  },
  {
   "cell_type": "code",
   "execution_count": 78,
   "metadata": {},
   "outputs": [],
   "source": [
    "ps=PorterStemmer()\n",
    "wordnet=WordNetLemmatizer()"
   ]
  },
  {
   "cell_type": "code",
   "execution_count": 79,
   "metadata": {},
   "outputs": [],
   "source": [
    "corpus=[]"
   ]
  },
  {
   "cell_type": "code",
   "execution_count": 80,
   "metadata": {},
   "outputs": [],
   "source": [
    "sentence_bow=sentence"
   ]
  },
  {
   "cell_type": "code",
   "execution_count": 82,
   "metadata": {},
   "outputs": [],
   "source": [
    "for i in range(len(sentence_bow)):\n",
    "    review=re.sub('[^A-Za-z]', ' ', sentence_bow[i])\n",
    "    review=review.lower()\n",
    "    review=review.split()         #converts string to list\n",
    "    words=[lemma.lemmatize(w) for w in review if w not in stopwords.words('english')]\n",
    "    review=''.join(words)\n",
    "    corpus.append(review)"
   ]
  },
  {
   "cell_type": "code",
   "execution_count": 84,
   "metadata": {},
   "outputs": [],
   "source": [
    "## BAG OF WORDS\n",
    "from sklearn.feature_extraction.text import CountVectorizer\n",
    "cv=CountVectorizer(max_features=1600)\n",
    "X=cv.fit_transform(corpus).toarray()"
   ]
  },
  {
   "cell_type": "code",
   "execution_count": 87,
   "metadata": {},
   "outputs": [
    {
     "data": {
      "text/plain": [
       "930"
      ]
     },
     "execution_count": 87,
     "metadata": {},
     "output_type": "execute_result"
    }
   ],
   "source": [
    "X.size"
   ]
  },
  {
   "cell_type": "markdown",
   "metadata": {},
   "source": [
    "## TFIDF"
   ]
  },
  {
   "cell_type": "code",
   "execution_count": 88,
   "metadata": {},
   "outputs": [],
   "source": [
    "from sklearn.feature_extraction.text import TfidfVectorizer\n",
    "cv=TfidfVectorizer()\n",
    "Y=cv.fit_transform(corpus).toarray()"
   ]
  },
  {
   "cell_type": "code",
   "execution_count": 90,
   "metadata": {},
   "outputs": [
    {
     "data": {
      "text/plain": [
       "930"
      ]
     },
     "execution_count": 90,
     "metadata": {},
     "output_type": "execute_result"
    }
   ],
   "source": [
    "Y.size"
   ]
  },
  {
   "cell_type": "markdown",
   "metadata": {},
   "source": [
    "## Word2Vec"
   ]
  },
  {
   "cell_type": "code",
   "execution_count": 126,
   "metadata": {},
   "outputs": [],
   "source": [
    "# mainly used for huge amount of data"
   ]
  },
  {
   "cell_type": "code",
   "execution_count": 125,
   "metadata": {},
   "outputs": [],
   "source": [
    "from gensim.models import Word2Vec"
   ]
  },
  {
   "cell_type": "code",
   "execution_count": 105,
   "metadata": {},
   "outputs": [],
   "source": [
    "text = re.sub(r'\\[[0-9]*\\]',' ',paragraph) # removing unwanted characters or symbols whatever needed\n",
    "text = re.sub(r'\\s+',' ',text)             # removing spaces\n",
    "text = text.lower()\n",
    "text = re.sub(r'\\d',' ',text)              # removing numbers(for years in this case)\n",
    "text = re.sub(r'\\s+',' ',text)             # removing empty spaces left out by numbers"
   ]
  },
  {
   "cell_type": "code",
   "execution_count": 106,
   "metadata": {},
   "outputs": [
    {
     "data": {
      "text/plain": [
       "'I have three visions for India. In 3000 years of our history, people from all over \\n               the world have come and invaded us, captured our lands, conquered our minds. \\n               From Alexander onwards, the Greeks, the Turks, the Moguls, the Portuguese, the British,\\n               the French, the Dutch, all of them came and looted us, took over what was ours. \\n               Yet we have not done this to any other nation. We have not conquered anyone. \\n               We have not grabbed their land, their culture, \\n               their history and tried to enforce our way of life on them. \\n               Why? Because we respect the freedom of others.That is why my \\n               first vision is that of freedom. I believe that India got its first vision of \\n               this in 1857, when we started the War of Independence. It is this freedom that\\n               we must protect and nurture and build on. If we are not free, no one will respect us.\\n               My second vision for India’s development. For fifty years we have been a developing nation.\\n               It is time we see ourselves as a developed nation. We are among the top 5 nations of the world\\n               in terms of GDP. We have a 10 percent growth rate in most areas. Our poverty levels are falling.\\n               Our achievements are being globally recognised today. Yet we lack the self-confidence to\\n               see ourselves as a developed nation, self-reliant and self-assured. Isn’t this incorrect?\\n               I have a third vision. India must stand up to the world. Because I believe that unless India \\n               stands up to the world, no one will respect us. Only strength respects strength. We must be \\n               strong not only as a military power but also as an economic power. Both must go hand-in-hand. \\n               My good fortune was to have worked with three great minds. Dr. Vikram Sarabhai of the Dept. of \\n               space, Professor Satish Dhawan, who succeeded him and Dr. Brahm Prakash, father of nuclear material.\\n               I was lucky to have worked with all three of them closely and consider this the great opportunity of my life. \\n               I see four milestones in my career'"
      ]
     },
     "execution_count": 106,
     "metadata": {},
     "output_type": "execute_result"
    }
   ],
   "source": [
    "paragraph"
   ]
  },
  {
   "cell_type": "code",
   "execution_count": 107,
   "metadata": {},
   "outputs": [
    {
     "data": {
      "text/plain": [
       "'i have three visions for india. in years of our history, people from all over the world have come and invaded us, captured our lands, conquered our minds. from alexander onwards, the greeks, the turks, the moguls, the portuguese, the british, the french, the dutch, all of them came and looted us, took over what was ours. yet we have not done this to any other nation. we have not conquered anyone. we have not grabbed their land, their culture, their history and tried to enforce our way of life on them. why? because we respect the freedom of others.that is why my first vision is that of freedom. i believe that india got its first vision of this in , when we started the war of independence. it is this freedom that we must protect and nurture and build on. if we are not free, no one will respect us. my second vision for india’s development. for fifty years we have been a developing nation. it is time we see ourselves as a developed nation. we are among the top nations of the world in terms of gdp. we have a percent growth rate in most areas. our poverty levels are falling. our achievements are being globally recognised today. yet we lack the self-confidence to see ourselves as a developed nation, self-reliant and self-assured. isn’t this incorrect? i have a third vision. india must stand up to the world. because i believe that unless india stands up to the world, no one will respect us. only strength respects strength. we must be strong not only as a military power but also as an economic power. both must go hand-in-hand. my good fortune was to have worked with three great minds. dr. vikram sarabhai of the dept. of space, professor satish dhawan, who succeeded him and dr. brahm prakash, father of nuclear material. i was lucky to have worked with all three of them closely and consider this the great opportunity of my life. i see four milestones in my career'"
      ]
     },
     "execution_count": 107,
     "metadata": {},
     "output_type": "execute_result"
    }
   ],
   "source": [
    "text"
   ]
  },
  {
   "cell_type": "code",
   "execution_count": 108,
   "metadata": {},
   "outputs": [],
   "source": [
    "sentences_word2vec = nltk.sent_tokenize(text)\n",
    "\n",
    "sentences_word2vec = [nltk.word_tokenize(sentence) for sentence in sentences_word2vec]"
   ]
  },
  {
   "cell_type": "code",
   "execution_count": 109,
   "metadata": {},
   "outputs": [],
   "source": [
    "for i in range(len(sentences_word2vec)):\n",
    "    sentences_word2vec[i] = [word for word in sentences_word2vec[i] if word not in stopwords.words('english')]"
   ]
  },
  {
   "cell_type": "code",
   "execution_count": 117,
   "metadata": {},
   "outputs": [],
   "source": [
    "model=Word2Vec(sentences_word2vec, min_count=1)   # min_count is here to select the words with min frequency = min_count i.e select words which are present at least min_count times"
   ]
  },
  {
   "cell_type": "code",
   "execution_count": 118,
   "metadata": {},
   "outputs": [],
   "source": [
    "words=model.wv.vocab"
   ]
  },
  {
   "cell_type": "code",
   "execution_count": 119,
   "metadata": {},
   "outputs": [
    {
     "data": {
      "text/plain": [
       "{'three': <gensim.models.keyedvectors.Vocab at 0x7f7644615250>,\n",
       " 'visions': <gensim.models.keyedvectors.Vocab at 0x7f76446159d0>,\n",
       " 'india': <gensim.models.keyedvectors.Vocab at 0x7f7644615220>,\n",
       " '.': <gensim.models.keyedvectors.Vocab at 0x7f76446156d0>,\n",
       " 'years': <gensim.models.keyedvectors.Vocab at 0x7f76446156a0>,\n",
       " 'history': <gensim.models.keyedvectors.Vocab at 0x7f76446155b0>,\n",
       " ',': <gensim.models.keyedvectors.Vocab at 0x7f7644615430>,\n",
       " 'people': <gensim.models.keyedvectors.Vocab at 0x7f7644615af0>,\n",
       " 'world': <gensim.models.keyedvectors.Vocab at 0x7f7644615b20>,\n",
       " 'come': <gensim.models.keyedvectors.Vocab at 0x7f76446152e0>,\n",
       " 'invaded': <gensim.models.keyedvectors.Vocab at 0x7f7644615490>,\n",
       " 'us': <gensim.models.keyedvectors.Vocab at 0x7f7644615970>,\n",
       " 'captured': <gensim.models.keyedvectors.Vocab at 0x7f7644615b50>,\n",
       " 'lands': <gensim.models.keyedvectors.Vocab at 0x7f7644615d60>,\n",
       " 'conquered': <gensim.models.keyedvectors.Vocab at 0x7f7644615730>,\n",
       " 'minds': <gensim.models.keyedvectors.Vocab at 0x7f7644615ca0>,\n",
       " 'alexander': <gensim.models.keyedvectors.Vocab at 0x7f7644615c40>,\n",
       " 'onwards': <gensim.models.keyedvectors.Vocab at 0x7f7644615820>,\n",
       " 'greeks': <gensim.models.keyedvectors.Vocab at 0x7f7644615580>,\n",
       " 'turks': <gensim.models.keyedvectors.Vocab at 0x7f76446158e0>,\n",
       " 'moguls': <gensim.models.keyedvectors.Vocab at 0x7f7644615c70>,\n",
       " 'portuguese': <gensim.models.keyedvectors.Vocab at 0x7f7644615ac0>,\n",
       " 'british': <gensim.models.keyedvectors.Vocab at 0x7f76446153a0>,\n",
       " 'french': <gensim.models.keyedvectors.Vocab at 0x7f7644615a60>,\n",
       " 'dutch': <gensim.models.keyedvectors.Vocab at 0x7f7644615400>,\n",
       " 'came': <gensim.models.keyedvectors.Vocab at 0x7f7644615340>,\n",
       " 'looted': <gensim.models.keyedvectors.Vocab at 0x7f7644615dc0>,\n",
       " 'took': <gensim.models.keyedvectors.Vocab at 0x7f7644615df0>,\n",
       " 'yet': <gensim.models.keyedvectors.Vocab at 0x7f7644615e80>,\n",
       " 'done': <gensim.models.keyedvectors.Vocab at 0x7f7644615ee0>,\n",
       " 'nation': <gensim.models.keyedvectors.Vocab at 0x7f7644615f40>,\n",
       " 'anyone': <gensim.models.keyedvectors.Vocab at 0x7f7644615fa0>,\n",
       " 'grabbed': <gensim.models.keyedvectors.Vocab at 0x7f764462a040>,\n",
       " 'land': <gensim.models.keyedvectors.Vocab at 0x7f764462a0a0>,\n",
       " 'culture': <gensim.models.keyedvectors.Vocab at 0x7f764462a100>,\n",
       " 'tried': <gensim.models.keyedvectors.Vocab at 0x7f764462a160>,\n",
       " 'enforce': <gensim.models.keyedvectors.Vocab at 0x7f764462a1c0>,\n",
       " 'way': <gensim.models.keyedvectors.Vocab at 0x7f764462a220>,\n",
       " 'life': <gensim.models.keyedvectors.Vocab at 0x7f764462a280>,\n",
       " '?': <gensim.models.keyedvectors.Vocab at 0x7f764462a2e0>,\n",
       " 'respect': <gensim.models.keyedvectors.Vocab at 0x7f764462a340>,\n",
       " 'freedom': <gensim.models.keyedvectors.Vocab at 0x7f764462a3a0>,\n",
       " 'others.that': <gensim.models.keyedvectors.Vocab at 0x7f764462a400>,\n",
       " 'first': <gensim.models.keyedvectors.Vocab at 0x7f764462a460>,\n",
       " 'vision': <gensim.models.keyedvectors.Vocab at 0x7f764462a4c0>,\n",
       " 'believe': <gensim.models.keyedvectors.Vocab at 0x7f764462a520>,\n",
       " 'got': <gensim.models.keyedvectors.Vocab at 0x7f764462a580>,\n",
       " 'started': <gensim.models.keyedvectors.Vocab at 0x7f764462a5e0>,\n",
       " 'war': <gensim.models.keyedvectors.Vocab at 0x7f764462a640>,\n",
       " 'independence': <gensim.models.keyedvectors.Vocab at 0x7f764462a6a0>,\n",
       " 'must': <gensim.models.keyedvectors.Vocab at 0x7f764462a700>,\n",
       " 'protect': <gensim.models.keyedvectors.Vocab at 0x7f764462a760>,\n",
       " 'nurture': <gensim.models.keyedvectors.Vocab at 0x7f764462a7c0>,\n",
       " 'build': <gensim.models.keyedvectors.Vocab at 0x7f764462a820>,\n",
       " 'free': <gensim.models.keyedvectors.Vocab at 0x7f764462a880>,\n",
       " 'one': <gensim.models.keyedvectors.Vocab at 0x7f764462a8e0>,\n",
       " 'second': <gensim.models.keyedvectors.Vocab at 0x7f764462a940>,\n",
       " '’': <gensim.models.keyedvectors.Vocab at 0x7f764462a9a0>,\n",
       " 'development': <gensim.models.keyedvectors.Vocab at 0x7f764462aa00>,\n",
       " 'fifty': <gensim.models.keyedvectors.Vocab at 0x7f764462aa60>,\n",
       " 'developing': <gensim.models.keyedvectors.Vocab at 0x7f764462aac0>,\n",
       " 'time': <gensim.models.keyedvectors.Vocab at 0x7f764462ab20>,\n",
       " 'see': <gensim.models.keyedvectors.Vocab at 0x7f764462ab80>,\n",
       " 'developed': <gensim.models.keyedvectors.Vocab at 0x7f764462abe0>,\n",
       " 'among': <gensim.models.keyedvectors.Vocab at 0x7f764462ac40>,\n",
       " 'top': <gensim.models.keyedvectors.Vocab at 0x7f764462aca0>,\n",
       " 'nations': <gensim.models.keyedvectors.Vocab at 0x7f764462ad00>,\n",
       " 'terms': <gensim.models.keyedvectors.Vocab at 0x7f764462ad60>,\n",
       " 'gdp': <gensim.models.keyedvectors.Vocab at 0x7f764462adc0>,\n",
       " 'percent': <gensim.models.keyedvectors.Vocab at 0x7f764462ae20>,\n",
       " 'growth': <gensim.models.keyedvectors.Vocab at 0x7f764462ae80>,\n",
       " 'rate': <gensim.models.keyedvectors.Vocab at 0x7f764462aee0>,\n",
       " 'areas': <gensim.models.keyedvectors.Vocab at 0x7f764462af40>,\n",
       " 'poverty': <gensim.models.keyedvectors.Vocab at 0x7f764462afa0>,\n",
       " 'levels': <gensim.models.keyedvectors.Vocab at 0x7f764462b040>,\n",
       " 'falling': <gensim.models.keyedvectors.Vocab at 0x7f764462b0a0>,\n",
       " 'achievements': <gensim.models.keyedvectors.Vocab at 0x7f764462b100>,\n",
       " 'globally': <gensim.models.keyedvectors.Vocab at 0x7f764462b160>,\n",
       " 'recognised': <gensim.models.keyedvectors.Vocab at 0x7f764462b1c0>,\n",
       " 'today': <gensim.models.keyedvectors.Vocab at 0x7f764462b220>,\n",
       " 'lack': <gensim.models.keyedvectors.Vocab at 0x7f764462b280>,\n",
       " 'self-confidence': <gensim.models.keyedvectors.Vocab at 0x7f764462b2e0>,\n",
       " 'self-reliant': <gensim.models.keyedvectors.Vocab at 0x7f764462b340>,\n",
       " 'self-assured': <gensim.models.keyedvectors.Vocab at 0x7f764462b3a0>,\n",
       " 'incorrect': <gensim.models.keyedvectors.Vocab at 0x7f764462b400>,\n",
       " 'third': <gensim.models.keyedvectors.Vocab at 0x7f764462b460>,\n",
       " 'stand': <gensim.models.keyedvectors.Vocab at 0x7f764462b4c0>,\n",
       " 'unless': <gensim.models.keyedvectors.Vocab at 0x7f764462b520>,\n",
       " 'stands': <gensim.models.keyedvectors.Vocab at 0x7f764462b580>,\n",
       " 'strength': <gensim.models.keyedvectors.Vocab at 0x7f764462b5e0>,\n",
       " 'respects': <gensim.models.keyedvectors.Vocab at 0x7f764462b640>,\n",
       " 'strong': <gensim.models.keyedvectors.Vocab at 0x7f764462b6a0>,\n",
       " 'military': <gensim.models.keyedvectors.Vocab at 0x7f764462b700>,\n",
       " 'power': <gensim.models.keyedvectors.Vocab at 0x7f764462b760>,\n",
       " 'also': <gensim.models.keyedvectors.Vocab at 0x7f764462b7c0>,\n",
       " 'economic': <gensim.models.keyedvectors.Vocab at 0x7f764462b820>,\n",
       " 'go': <gensim.models.keyedvectors.Vocab at 0x7f764462b880>,\n",
       " 'hand-in-hand': <gensim.models.keyedvectors.Vocab at 0x7f764462b8e0>,\n",
       " 'good': <gensim.models.keyedvectors.Vocab at 0x7f764462b940>,\n",
       " 'fortune': <gensim.models.keyedvectors.Vocab at 0x7f764462b9a0>,\n",
       " 'worked': <gensim.models.keyedvectors.Vocab at 0x7f764462ba00>,\n",
       " 'great': <gensim.models.keyedvectors.Vocab at 0x7f764462ba60>,\n",
       " 'dr.': <gensim.models.keyedvectors.Vocab at 0x7f764462bac0>,\n",
       " 'vikram': <gensim.models.keyedvectors.Vocab at 0x7f764462bb20>,\n",
       " 'sarabhai': <gensim.models.keyedvectors.Vocab at 0x7f764462bb80>,\n",
       " 'dept': <gensim.models.keyedvectors.Vocab at 0x7f764462bbe0>,\n",
       " 'space': <gensim.models.keyedvectors.Vocab at 0x7f764462bc40>,\n",
       " 'professor': <gensim.models.keyedvectors.Vocab at 0x7f764462bca0>,\n",
       " 'satish': <gensim.models.keyedvectors.Vocab at 0x7f764462bd00>,\n",
       " 'dhawan': <gensim.models.keyedvectors.Vocab at 0x7f764462bd60>,\n",
       " 'succeeded': <gensim.models.keyedvectors.Vocab at 0x7f764462bdc0>,\n",
       " 'brahm': <gensim.models.keyedvectors.Vocab at 0x7f764462be20>,\n",
       " 'prakash': <gensim.models.keyedvectors.Vocab at 0x7f764462be80>,\n",
       " 'father': <gensim.models.keyedvectors.Vocab at 0x7f764462bee0>,\n",
       " 'nuclear': <gensim.models.keyedvectors.Vocab at 0x7f764462bf40>,\n",
       " 'material': <gensim.models.keyedvectors.Vocab at 0x7f764462bfa0>,\n",
       " 'lucky': <gensim.models.keyedvectors.Vocab at 0x7f764462e040>,\n",
       " 'closely': <gensim.models.keyedvectors.Vocab at 0x7f764462e0a0>,\n",
       " 'consider': <gensim.models.keyedvectors.Vocab at 0x7f764462e100>,\n",
       " 'opportunity': <gensim.models.keyedvectors.Vocab at 0x7f764462e160>,\n",
       " 'four': <gensim.models.keyedvectors.Vocab at 0x7f764462e1c0>,\n",
       " 'milestones': <gensim.models.keyedvectors.Vocab at 0x7f764462e220>,\n",
       " 'career': <gensim.models.keyedvectors.Vocab at 0x7f764462e280>}"
      ]
     },
     "execution_count": 119,
     "metadata": {},
     "output_type": "execute_result"
    }
   ],
   "source": [
    "words"
   ]
  },
  {
   "cell_type": "code",
   "execution_count": 129,
   "metadata": {},
   "outputs": [],
   "source": [
    "# finding word vectors\n",
    "vector = model.wv['war']     # find vector for a word"
   ]
  },
  {
   "cell_type": "code",
   "execution_count": 124,
   "metadata": {},
   "outputs": [
    {
     "data": {
      "text/plain": [
       "array([-5.5026601e-04,  2.7958301e-03, -4.1053849e-03,  6.8134558e-04,\n",
       "        3.9012870e-03,  2.9799188e-03,  6.0628646e-04,  2.2199587e-03,\n",
       "       -2.1957615e-04, -1.3040619e-03, -3.3935609e-03, -3.1493923e-03,\n",
       "       -1.8945048e-04,  3.4187508e-03,  1.3385153e-03,  1.3909843e-03,\n",
       "        3.6149235e-03,  2.9681714e-03, -2.8716715e-03, -6.8036298e-04,\n",
       "       -6.6280866e-04, -8.9831062e-04,  2.2391367e-03, -1.5881280e-03,\n",
       "       -3.1905256e-03,  8.2698761e-04, -3.3932424e-03, -2.8658824e-04,\n",
       "       -4.5872433e-03,  2.1191561e-04, -2.0665175e-03, -2.5407707e-03,\n",
       "        9.1602368e-04, -1.6093348e-03, -3.2278744e-03, -1.2387321e-03,\n",
       "       -3.0520363e-03, -4.6843612e-03, -1.8801697e-03, -8.3139876e-04,\n",
       "        3.7367928e-03, -2.9211207e-03, -3.1374323e-03,  4.0291469e-03,\n",
       "        2.7689757e-03,  3.2233687e-03,  2.5281932e-03, -3.6469223e-03,\n",
       "        2.8968386e-03, -1.2854139e-03, -2.9250907e-03,  4.2722779e-03,\n",
       "        4.1354634e-03,  9.4710609e-05, -7.9708715e-04, -3.6481332e-03,\n",
       "       -2.1721693e-04, -4.8355777e-03, -9.9463947e-04, -6.8265822e-04,\n",
       "       -4.4570188e-03, -4.9939612e-03,  2.6268873e-03, -1.3316945e-03,\n",
       "       -3.8148738e-03, -1.5261180e-03, -4.9345451e-03,  1.1702402e-03,\n",
       "       -3.5253654e-03, -4.1433009e-03, -4.1982606e-03,  4.1926773e-03,\n",
       "       -3.4702206e-03, -4.7159186e-03, -6.5199472e-04,  1.8037532e-03,\n",
       "       -1.4003963e-03,  4.7995760e-03, -3.3328212e-03,  2.3190326e-03,\n",
       "       -6.2956673e-04,  4.3672668e-03, -1.2756960e-03, -3.3919720e-03,\n",
       "        3.0688292e-03, -4.2924909e-03, -2.3436819e-03,  2.2392529e-03,\n",
       "       -4.6286364e-03,  2.8073213e-03, -2.9751526e-03,  3.3862600e-03,\n",
       "        3.3343534e-03, -6.4861623e-04,  4.5958892e-03, -3.6646088e-03,\n",
       "        2.5675986e-03,  3.6140780e-03, -4.5946157e-03,  3.6369488e-04],\n",
       "      dtype=float32)"
      ]
     },
     "execution_count": 124,
     "metadata": {},
     "output_type": "execute_result"
    }
   ],
   "source": [
    "vector"
   ]
  },
  {
   "cell_type": "code",
   "execution_count": 121,
   "metadata": {},
   "outputs": [],
   "source": [
    "# Most similar words\n",
    "similar = model.wv.most_similar('three')"
   ]
  },
  {
   "cell_type": "code",
   "execution_count": 122,
   "metadata": {},
   "outputs": [
    {
     "data": {
      "text/plain": [
       "[(',', 0.22390732169151306),\n",
       " ('vikram', 0.19229945540428162),\n",
       " ('portuguese', 0.18831349909305573),\n",
       " ('anyone', 0.184151291847229),\n",
       " ('build', 0.1704740822315216),\n",
       " ('strong', 0.16168484091758728),\n",
       " ('history', 0.1595708727836609),\n",
       " ('strength', 0.15772736072540283),\n",
       " ('levels', 0.14039283990859985),\n",
       " ('falling', 0.1346144676208496)]"
      ]
     },
     "execution_count": 122,
     "metadata": {},
     "output_type": "execute_result"
    }
   ],
   "source": [
    "similar"
   ]
  },
  {
   "cell_type": "code",
   "execution_count": null,
   "metadata": {},
   "outputs": [],
   "source": []
  },
  {
   "cell_type": "code",
   "execution_count": null,
   "metadata": {},
   "outputs": [],
   "source": []
  },
  {
   "cell_type": "code",
   "execution_count": null,
   "metadata": {},
   "outputs": [],
   "source": []
  },
  {
   "cell_type": "code",
   "execution_count": null,
   "metadata": {},
   "outputs": [],
   "source": []
  },
  {
   "cell_type": "code",
   "execution_count": null,
   "metadata": {},
   "outputs": [],
   "source": []
  },
  {
   "cell_type": "code",
   "execution_count": null,
   "metadata": {},
   "outputs": [],
   "source": []
  },
  {
   "cell_type": "code",
   "execution_count": null,
   "metadata": {},
   "outputs": [],
   "source": []
  },
  {
   "cell_type": "code",
   "execution_count": null,
   "metadata": {},
   "outputs": [],
   "source": []
  },
  {
   "cell_type": "code",
   "execution_count": null,
   "metadata": {},
   "outputs": [],
   "source": []
  },
  {
   "cell_type": "code",
   "execution_count": null,
   "metadata": {},
   "outputs": [],
   "source": []
  },
  {
   "cell_type": "code",
   "execution_count": null,
   "metadata": {},
   "outputs": [],
   "source": []
  },
  {
   "cell_type": "code",
   "execution_count": null,
   "metadata": {},
   "outputs": [],
   "source": []
  },
  {
   "cell_type": "code",
   "execution_count": null,
   "metadata": {},
   "outputs": [],
   "source": []
  },
  {
   "cell_type": "code",
   "execution_count": null,
   "metadata": {},
   "outputs": [],
   "source": []
  },
  {
   "cell_type": "code",
   "execution_count": null,
   "metadata": {},
   "outputs": [],
   "source": []
  },
  {
   "cell_type": "code",
   "execution_count": null,
   "metadata": {},
   "outputs": [],
   "source": []
  },
  {
   "cell_type": "code",
   "execution_count": null,
   "metadata": {},
   "outputs": [],
   "source": []
  },
  {
   "cell_type": "code",
   "execution_count": null,
   "metadata": {},
   "outputs": [],
   "source": []
  },
  {
   "cell_type": "code",
   "execution_count": null,
   "metadata": {},
   "outputs": [],
   "source": []
  }
 ],
 "metadata": {
  "kernelspec": {
   "display_name": "Python 3",
   "language": "python",
   "name": "python3"
  },
  "language_info": {
   "codemirror_mode": {
    "name": "ipython",
    "version": 3
   },
   "file_extension": ".py",
   "mimetype": "text/x-python",
   "name": "python",
   "nbconvert_exporter": "python",
   "pygments_lexer": "ipython3",
   "version": "3.8.10"
  }
 },
 "nbformat": 4,
 "nbformat_minor": 4
}
